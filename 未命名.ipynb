{
 "cells": [
  {
   "cell_type": "code",
   "execution_count": 11,
   "metadata": {},
   "outputs": [
    {
     "name": "stdout",
     "output_type": "stream",
     "text": [
      "[[2 0 0 0 0 0 0 0]\n",
      " [0 0 0 0 1 0 0 0]\n",
      " [0 0 0 0 1 0 0 0]]\n",
      "[0 4 4]\n"
     ]
    }
   ],
   "source": [
    "import tensorflow as tf\n",
    "import numpy as np\n",
    "a = np.array([[2,0,0,0,0,0,0,0],\n",
    "             [0,0,0,0,1,0,0,0],\n",
    "             [0,0,0,0,1,0,0,0]])\n",
    "print(a)\n",
    "# tensor_a = tf.convert_to_tensor(a)\n",
    "# print(tensor_a)\n",
    "# print(tf.math.argmax(a,1))\n",
    "# b = tf.constant(a)\n",
    "# print(tf.argmax(b,1))\n",
    "sess = tf.Session()\n",
    "b = sess.run(tf.argmax(a,1))\n",
    "print(b)"
   ]
  },
  {
   "cell_type": "code",
   "execution_count": null,
   "metadata": {},
   "outputs": [],
   "source": []
  }
 ],
 "metadata": {
  "kernelspec": {
   "display_name": "Python 3",
   "language": "python",
   "name": "python3"
  },
  "language_info": {
   "codemirror_mode": {
    "name": "ipython",
    "version": 3
   },
   "file_extension": ".py",
   "mimetype": "text/x-python",
   "name": "python",
   "nbconvert_exporter": "python",
   "pygments_lexer": "ipython3",
   "version": "3.6.5"
  }
 },
 "nbformat": 4,
 "nbformat_minor": 2
}
